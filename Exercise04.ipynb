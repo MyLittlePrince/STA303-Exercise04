{
 "cells": [
  {
   "cell_type": "markdown",
   "metadata": {},
   "source": [
    "# Exercise 04:  Route Planning"
   ]
  },
  {
   "cell_type": "markdown",
   "metadata": {},
   "source": [
    "In route planning, the objective is to find the best way to get from point A to point B (think Google Maps). In this exercise, we will try top of the classic shortest path problem."
   ]
  },
  {
   "cell_type": "markdown",
   "metadata": {},
   "source": [
    "### Basic Imports"
   ]
  },
  {
   "cell_type": "code",
   "execution_count": 1,
   "metadata": {},
   "outputs": [],
   "source": [
    "from queue import PriorityQueue\n",
    "from collections.abc import Iterable"
   ]
  },
  {
   "cell_type": "markdown",
   "metadata": {},
   "source": [
    "``PriorityQueue`` implements a priority queue data structure, where elements are typically tuples of the form (priority, item). The entries are kept sorted by priority, and the queue retrieves elements starting with the lowest priority item. For details, please refer to https://docs.python.org/3/library/queue.html."
   ]
  },
  {
   "cell_type": "markdown",
   "metadata": {},
   "source": [
    "### Task 1: Implement Uniform Cost Search Algorithm\n",
    "\n",
    "Complete the implementation of the Uniform Cost Search (UCS) algorithm. You are provided with a partially completed function. Your task is to fill in the missing logic in the loop that processes nodes from the priority ."
   ]
  },
  {
   "cell_type": "code",
   "execution_count": 2,
   "metadata": {},
   "outputs": [],
   "source": [
    "def ucs(graph, home, destination):\n",
    "    if home not in graph:\n",
    "        raise TypeError(str(home) + ' not found in graph!')\n",
    "    if destination not in graph:\n",
    "        raise TypeError(str(destination) + ' not found in graph!')\n",
    "\n",
    "    queue = PriorityQueue()\n",
    "    queue.put((0, [home]))\n",
    "    visited = set()\n",
    "\n",
    "    while not queue.empty():\n",
    "        cost, path = queue.get()\n",
    "        current = path[-1]\n",
    "\n",
    "        if current == destination:\n",
    "            return (cost, path)\n",
    "        \n",
    "        if current not in visited:\n",
    "            visited.add(current)\n",
    "            for neighbor, neighbor_cost in graph[current].items():\n",
    "                if neighbor not in visited:\n",
    "                    total_cost = cost + neighbor_cost\n",
    "                    queue.put((total_cost, path + [neighbor]))\n",
    "    \n",
    "    return None"
   ]
  },
  {
   "cell_type": "markdown",
   "metadata": {},
   "source": [
    "### Test Phase\n",
    "Let us find the shortest path from Anyang to HongKong."
   ]
  },
  {
   "cell_type": "code",
   "execution_count": 3,
   "metadata": {},
   "outputs": [
    {
     "name": "stdout",
     "output_type": "stream",
     "text": [
      "['Anyang', 'Zhengzhou', 'Nanchang', 'Shenzhen', 'HongKong']\n",
      "1450\n",
      "True\n",
      "Anyang -> Zhengzhou -> Nanchang -> Shenzhen -> HongKong\n",
      "Shortest path: Anyang -> Zhengzhou -> Nanchang -> Shenzhen -> HongKong with total cost: 1450\n"
     ]
    }
   ],
   "source": [
    "file = open(\"maps.txt\",\"r\")\n",
    "lines = file.readlines()\n",
    "graph = {}\n",
    "for line in lines:\n",
    "    token = line.split()\n",
    "    node = token[0]\n",
    "    graph[node] = {}\n",
    "    for i in range(1, len(token)-1, 2):\n",
    "        graph[node][token[i]] = int(token[i + 1])\n",
    "result=ucs(graph, \"Anyang\", \"HongKong\")\n",
    "if result:\n",
    "    cost, path = result\n",
    "    print(path)\n",
    "    print(cost)\n",
    "    is_iterable = isinstance(path, Iterable)\n",
    "    print(is_iterable)  # 如果path是iterable的，将打印True；否则，打印False\n",
    "    \n",
    "    formatted_path = \" -> \".join(path)  # Formats the path as 'A -> B -> C'\n",
    "    print(formatted_path) \n",
    "    print(f\"Shortest path: {formatted_path} with total cost: {cost}\")\n",
    "else:\n",
    "    print(\"Path not found\")"
   ]
  },
  {
   "cell_type": "code",
   "execution_count": null,
   "metadata": {},
   "outputs": [],
   "source": []
  },
  {
   "cell_type": "code",
   "execution_count": null,
   "metadata": {},
   "outputs": [],
   "source": []
  }
 ],
 "metadata": {
  "kernelspec": {
   "display_name": "Python 3 (ipykernel)",
   "language": "python",
   "name": "python3"
  },
  "language_info": {
   "codemirror_mode": {
    "name": "ipython",
    "version": 3
   },
   "file_extension": ".py",
   "mimetype": "text/x-python",
   "name": "python",
   "nbconvert_exporter": "python",
   "pygments_lexer": "ipython3",
   "version": "3.10.12"
  }
 },
 "nbformat": 4,
 "nbformat_minor": 4
}
